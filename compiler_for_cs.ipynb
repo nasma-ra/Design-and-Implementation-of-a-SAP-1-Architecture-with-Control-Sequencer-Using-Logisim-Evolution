{
  "nbformat": 4,
  "nbformat_minor": 0,
  "metadata": {
    "colab": {
      "provenance": [],
      "toc_visible": true
    },
    "kernelspec": {
      "name": "python3",
      "display_name": "Python 3"
    },
    "language_info": {
      "name": "python"
    }
  },
  "cells": [
    {
      "cell_type": "code",
      "execution_count": null,
      "metadata": {
        "colab": {
          "base_uri": "https://localhost:8080/"
        },
        "id": "n2wyzdJrTBkt",
        "outputId": "9151d992-53a6-4e15-9eae-5b99ca0cb171"
      },
      "outputs": [
        {
          "output_type": "stream",
          "name": "stdout",
          "text": [
            "Overwriting /content/sap1_asm.py\n"
          ]
        }
      ],
      "source": [
        "%%writefile /content/sap1_asm.py\n",
        "#!/usr/bin/env python3\n",
        "import re, sys\n",
        "\n",
        "# Your ISA (operand_needed = True/False)\n",
        "ISA = {\n",
        "    \"LDA\":      (0x1, True),\n",
        "    \"LDB\":      (0x2, True),\n",
        "    \"ADD\":      (0x3, False),\n",
        "    \"COMPARE\":  (0xD, False),\n",
        "    \"HLT\":      (0xF, False),\n",
        "}\n",
        "\n",
        "def is_binary_token(s):\n",
        "    return re.fullmatch(r\"[01]{1,8}\", s) is not None\n",
        "\n",
        "def parse_number(tok):\n",
        "    tok = tok.strip()\n",
        "    # binary (e.g., 1010 or 00011000)\n",
        "    if is_binary_token(tok):\n",
        "        return int(tok, 2)\n",
        "    # hex (e.g., 0x1A / 0X1A / A / F)\n",
        "    if tok.startswith((\"0x\",\"0X\")):\n",
        "        return int(tok, 16)\n",
        "    if len(tok)==1 and tok.upper() in \"0123456789ABCDEF\":\n",
        "        return int(tok, 16)\n",
        "    # decimal fallback\n",
        "    return int(tok, 10)\n",
        "\n",
        "def strip_comment(line: str) -> str:\n",
        "    # remove anything after ; or #\n",
        "    if \";\" in line: line = line.split(\";\",1)[0]\n",
        "    if \"#\" in line: line = line.split(\"#\",1)[0]\n",
        "    return line.strip()\n",
        "\n",
        "def tokenize(src: str):\n",
        "    for raw in src.splitlines():\n",
        "        line = strip_comment(raw)\n",
        "        if line:\n",
        "            yield line\n",
        "\n",
        "def first_pass(lines):\n",
        "    \"\"\"\n",
        "    Builds label table + a list of parsed lines.\n",
        "    PC wraps in lower 4 bits (0..15) for 16-byte memory.\n",
        "    Supports:\n",
        "      LABEL:         (optional) followed by instruction\n",
        "      ORG addr       (set PC)\n",
        "      DATA value     (write raw byte)\n",
        "      <MNEMONIC> [operand]\n",
        "    \"\"\"\n",
        "    pc = 0\n",
        "    labels = {}\n",
        "    parsed = []\n",
        "\n",
        "    for line in lines:\n",
        "        # label?\n",
        "        if \":\" in line:\n",
        "            lab, rest = line.split(\":\", 1)\n",
        "            lab = lab.strip()\n",
        "            rest = rest.strip()\n",
        "            if not lab:\n",
        "                raise ValueError(\"Empty label definition.\")\n",
        "            if lab in labels:\n",
        "                raise ValueError(f\"Duplicate label: {lab}\")\n",
        "            labels[lab] = pc\n",
        "            if not rest:\n",
        "                # allow label-only line\n",
        "                parsed.append((\"NOPLINE\", [], pc))\n",
        "                continue\n",
        "            line = rest\n",
        "\n",
        "        toks = line.replace(\",\", \" \").split()\n",
        "        op = toks[0].upper()\n",
        "        args = toks[1:]\n",
        "\n",
        "        parsed.append((op, args, pc))\n",
        "\n",
        "        if op == \"ORG\":\n",
        "            if not args:\n",
        "                raise ValueError(\"ORG needs an address.\")\n",
        "            pc = parse_number(args[0]) & 0xF\n",
        "        else:\n",
        "            pc = (pc + 1) & 0xF\n",
        "\n",
        "    return labels, parsed\n",
        "\n",
        "def assemble(src: str):\n",
        "    mem = [0x00]*16\n",
        "    labels, lines = first_pass(list(tokenize(src)))\n",
        "\n",
        "    pc = 0\n",
        "    for op, args, at in lines:\n",
        "        if op == \"NOPLINE\":\n",
        "            pc = at\n",
        "            continue\n",
        "\n",
        "        if op == \"ORG\":\n",
        "            pc = parse_number(args[0]) & 0xF\n",
        "            continue\n",
        "\n",
        "        if op == \"DATA\":\n",
        "            if not args:\n",
        "                raise ValueError(f\"DATA needs a value at address {pc:01X}\")\n",
        "            val = parse_number(args[0]) & 0xFF\n",
        "            mem[pc] = val\n",
        "            pc = (pc + 1) & 0xF\n",
        "            continue\n",
        "\n",
        "        if op not in ISA:\n",
        "            raise ValueError(f\"Unknown instruction: {op} at address {pc:01X}\")\n",
        "\n",
        "        opcode, needs_operand = ISA[op]\n",
        "        operand = 0\n",
        "        if needs_operand:\n",
        "            if not args:\n",
        "                raise ValueError(f\"{op} needs an operand at address {pc:01X}\")\n",
        "            a = args[0]\n",
        "            # label or number\n",
        "            if a in labels:\n",
        "                operand = labels[a] & 0xF\n",
        "            else:\n",
        "                operand = parse_number(a) & 0xF\n",
        "\n",
        "        mem[pc] = ((opcode & 0xF) << 4) | (operand & 0xF)\n",
        "        pc = (pc + 1) & 0xF\n",
        "\n",
        "    return mem\n",
        "\n",
        "def main():\n",
        "    import argparse\n",
        "    parser = argparse.ArgumentParser(description=\"SAP-1 assembler (LDA/LDB/ADD/COMPARE/HLT) -> 16-byte hex image\")\n",
        "    parser.add_argument(\"file\", nargs=\"?\", help=\"assembly source file (optional)\")\n",
        "    parser.add_argument(\"--list\", action=\"store_true\", help=\"print address-by-address listing\")\n",
        "    args, _ = parser.parse_known_args()\n",
        "\n",
        "    if args.file:\n",
        "        with open(args.file, \"r\", encoding=\"utf-8\") as f:\n",
        "            src = f.read()\n",
        "    else:\n",
        "        print(\"Enter assembly. Type END on a line by itself to finish:\")\n",
        "        buf=[]\n",
        "        while True:\n",
        "            try:\n",
        "                line = input()\n",
        "            except EOFError:\n",
        "                break\n",
        "            if line.strip() == \"END\":\n",
        "                break\n",
        "            buf.append(line)\n",
        "        src = \"\\n\".join(buf)\n",
        "\n",
        "    mem = assemble(src)\n",
        "\n",
        "    if args.list:\n",
        "        print(\"Addr  Hex  Bin\")\n",
        "        print(\"--------------\")\n",
        "        for i,b in enumerate(mem):\n",
        "            print(f\"{i:>4}  {b:02X}  {b:08b}\")\n",
        "        print()\n",
        "    print(\" \".join(f\"{b:02X}\" for b in mem))\n",
        "\n",
        "if __name__ == \"__main__\":\n",
        "    main()\n",
        "\n"
      ]
    },
    {
      "cell_type": "code",
      "source": [
        "%%writefile /content/prog.asm\n",
        "; Test program using LDA, LDB, ADD, COMPARE, HLT\n",
        "ORG 0\n",
        "LDA 8\n",
        "LDB 9\n",
        "ADD\n",
        "COMPARE\n",
        "HLT\n",
        "; Data section\n",
        "ORG 8\n",
        "DATA 5\n",
        "DATA 7\n"
      ],
      "metadata": {
        "colab": {
          "base_uri": "https://localhost:8080/"
        },
        "id": "TUHRgsA5U88F",
        "outputId": "bd41821a-22e6-4dfa-bcc9-6aa2a516d4ca"
      },
      "execution_count": null,
      "outputs": [
        {
          "output_type": "stream",
          "name": "stdout",
          "text": [
            "Overwriting /content/prog.asm\n"
          ]
        }
      ]
    },
    {
      "cell_type": "code",
      "source": [
        "!python /content/sap1_asm.py /content/prog.asm\n"
      ],
      "metadata": {
        "colab": {
          "base_uri": "https://localhost:8080/"
        },
        "id": "cK8lHLalYKD1",
        "outputId": "69bd887a-9806-4205-f750-b0225e34c9eb"
      },
      "execution_count": null,
      "outputs": [
        {
          "output_type": "stream",
          "name": "stdout",
          "text": [
            "18 29 30 D0 F0 00 00 00 05 07 00 00 00 00 00 00\n"
          ]
        }
      ]
    }
  ]
}